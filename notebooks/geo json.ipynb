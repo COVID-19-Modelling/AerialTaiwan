{
 "cells": [
  {
   "cell_type": "code",
   "execution_count": 7,
   "id": "ceb4cfc1",
   "metadata": {},
   "outputs": [],
   "source": [
    "import geopandas as gpd\n",
    "import os"
   ]
  },
  {
   "cell_type": "code",
   "execution_count": 6,
   "id": "150c0666",
   "metadata": {},
   "outputs": [
    {
     "data": {
      "text/plain": [
       "['gadm40_TWN_0.cpg',\n",
       " 'gadm40_TWN_0.dbf',\n",
       " 'gadm40_TWN_0.prj',\n",
       " 'gadm40_TWN_0.shp',\n",
       " 'gadm40_TWN_0.shx',\n",
       " 'gadm40_TWN_1.cpg',\n",
       " 'gadm40_TWN_1.dbf',\n",
       " 'gadm40_TWN_1.prj',\n",
       " 'gadm40_TWN_1.shp',\n",
       " 'gadm40_TWN_1.shx',\n",
       " 'gadm40_TWN_2.cpg',\n",
       " 'gadm40_TWN_2.dbf',\n",
       " 'gadm40_TWN_2.prj',\n",
       " 'gadm40_TWN_2.shp',\n",
       " 'gadm40_TWN_2.shx']"
      ]
     },
     "execution_count": 6,
     "metadata": {},
     "output_type": "execute_result"
    }
   ],
   "source": [
    "os.listdir('../rawdata/gadm40_TWN_shp')"
   ]
  },
  {
   "cell_type": "code",
   "execution_count": 9,
   "id": "957b298b",
   "metadata": {},
   "outputs": [
    {
     "name": "stderr",
     "output_type": "stream",
     "text": [
      "D:\\ProgramData\\Miniconda3\\envs\\AerialTaiwan\\lib\\site-packages\\geopandas\\io\\file.py:362: FutureWarning: pandas.Int64Index is deprecated and will be removed from pandas in a future version. Use pandas.Index with the appropriate dtype instead.\n",
      "  pd.Int64Index,\n"
     ]
    }
   ],
   "source": [
    "file = gpd.read_file('../rawdata/gadm40_TWN_shp/gadm40_TWN_2.shp')\n",
    "file.to_file(\"../data/twn_2.json\", driver=\"GeoJSON\")"
   ]
  }
 ],
 "metadata": {
  "kernelspec": {
   "display_name": "Python 3 (ipykernel)",
   "language": "python",
   "name": "python3"
  },
  "language_info": {
   "codemirror_mode": {
    "name": "ipython",
    "version": 3
   },
   "file_extension": ".py",
   "mimetype": "text/x-python",
   "name": "python",
   "nbconvert_exporter": "python",
   "pygments_lexer": "ipython3",
   "version": "3.9.12"
  }
 },
 "nbformat": 4,
 "nbformat_minor": 5
}
